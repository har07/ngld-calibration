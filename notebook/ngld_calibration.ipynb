{
  "nbformat": 4,
  "nbformat_minor": 0,
  "metadata": {
    "colab": {
      "name": "ngld-calibration.ipynb",
      "provenance": [],
      "collapsed_sections": [
        "WJC2At4g07q_",
        "85oYuwPAJChV",
        "bR2vsCU9R2mP",
        "NPd-nBQslgLw",
        "KfQqH0NK13JR",
        "lzD6eb0k_8et",
        "VhBKpApXdh15"
      ]
    },
    "kernelspec": {
      "name": "python3",
      "display_name": "Python 3"
    },
    "language_info": {
      "name": "python"
    },
    "accelerator": "GPU"
  },
  "cells": [
    {
      "cell_type": "markdown",
      "metadata": {
        "id": "mXghWefntpUC"
      },
      "source": [
        "### Utility Section"
      ]
    },
    {
      "cell_type": "code",
      "metadata": {
        "id": "jAg2UpmBtun9"
      },
      "source": [
        "# clone main repo\n",
        "%cd /content\n",
        "!git clone https://github.com/har07/ngld-experiments.git\n",
        "%cd ngld-experiments\n",
        "!git checkout calibration_metrics\n",
        "# %cd calibration\n",
        "# !mkdir plots\n",
        "!mkdir trained\n",
        "\n",
        "# connect gdrive because training result will be saved to gdrive\n",
        "# and codes for plotting will read the result from gdrive\n",
        "from google.colab import drive\n",
        "drive.mount('/content/drive')\n",
        "\n",
        "# load tensorboard extension\n",
        "%load_ext tensorboard"
      ],
      "execution_count": null,
      "outputs": []
    },
    {
      "cell_type": "markdown",
      "metadata": {
        "id": "WJC2At4g07q_"
      },
      "source": [
        "### Training"
      ]
    },
    {
      "cell_type": "code",
      "metadata": {
        "id": "4J3nUiFBF9kJ"
      },
      "source": [
        "!mkdir trained"
      ],
      "execution_count": null,
      "outputs": []
    },
    {
      "cell_type": "code",
      "metadata": {
        "colab": {
          "base_uri": "https://localhost:8080/"
        },
        "id": "2gxGiNF90-af",
        "outputId": "a6c5d7ac-4297-49c2-b912-6fcea06aa936"
      },
      "source": [
        "# !python train_batch.py -y config/batch_mnist.yaml -p /content/ngld-experiments/trained\n",
        "!python train_batch.py -y config/batch_cifar10.yaml -p /content/ngld-experiments/trained"
      ],
      "execution_count": null,
      "outputs": [
        {
          "output_type": "stream",
          "name": "stdout",
          "text": [
            "optimizer:  optim.SGD\n",
            "optimizer params:  {'lr': 0.1}\n",
            "current_lr:  0.1\n",
            "Epoch: 1\tTrain Sec: 156.776\tLoss: 1.597\tAcc: 43.500\tVal Acc: 42.320\n",
            "current_lr:  0.1\n",
            "Epoch: 2\tTrain Sec: 145.631\tLoss: 0.938\tAcc: 66.500\tVal Acc: 64.300\n",
            "current_lr:  0.1\n",
            "Epoch: 3\tTrain Sec: 151.298\tLoss: 0.718\tAcc: 75.000\tVal Acc: 70.140\n",
            "current_lr:  0.1\n",
            "Epoch: 4\tTrain Sec: 145.708\tLoss: 0.835\tAcc: 73.000\tVal Acc: 66.630\n",
            "current_lr:  0.1\n",
            "Epoch: 5\tTrain Sec: 151.187\tLoss: 0.708\tAcc: 75.000\tVal Acc: 75.100\n",
            "current_lr:  0.1\n",
            "Epoch: 6\tTrain Sec: 145.567\tLoss: 0.769\tAcc: 76.000\tVal Acc: 79.090\n",
            "current_lr:  0.1\n",
            "Epoch: 7\tTrain Sec: 151.022\tLoss: 0.500\tAcc: 83.500\tVal Acc: 79.530\n",
            "current_lr:  0.1\n",
            "Epoch: 8\tTrain Sec: 145.686\tLoss: 0.440\tAcc: 84.000\tVal Acc: 78.860\n",
            "current_lr:  0.1\n",
            "Epoch: 9\tTrain Sec: 151.175\tLoss: 0.363\tAcc: 89.000\tVal Acc: 80.370\n",
            "current_lr:  0.1\n",
            "Epoch: 10\tTrain Sec: 145.462\tLoss: 0.407\tAcc: 86.500\tVal Acc: 82.250\n",
            "epoch duration (mean +/- std): 148.95 +/- 3.70\n"
          ]
        }
      ]
    },
    {
      "cell_type": "code",
      "metadata": {
        "id": "6KrJi8jr46zX"
      },
      "source": [
        "!mkdir /content/drive/MyDrive/MyExperiments/cifar10_resnet18/runs\n",
        "!mkdir /content/drive/MyDrive/MyExperiments/cifar10_resnet18/notes\n",
        "!mv trained/*.pt /content/drive/MyDrive/MyExperiments/cifar10_resnet18\n",
        "!mv trained/*.txt /content/drive/MyDrive/MyExperiments/cifar10_resnet18/notes\n",
        "!mv runs/* /content/drive/MyDrive/MyExperiments/cifar10_resnet18/runs\n",
        "!cp config/batch_cifar10.yaml /content/drive/MyDrive/MyExperiments/cifar10_resnet18/notes"
      ],
      "execution_count": null,
      "outputs": []
    },
    {
      "cell_type": "markdown",
      "metadata": {
        "id": "85oYuwPAJChV"
      },
      "source": [
        "### Evaluate Accuracy and Calibration"
      ]
    },
    {
      "cell_type": "code",
      "metadata": {
        "id": "7dJuPEMK9D0k"
      },
      "source": [
        "%cd calibration"
      ],
      "execution_count": null,
      "outputs": []
    },
    {
      "cell_type": "code",
      "metadata": {
        "id": "pUfVpwP-JZfk"
      },
      "source": [
        "!rm -rf plots\n",
        "!mkdir plots"
      ],
      "execution_count": null,
      "outputs": []
    },
    {
      "cell_type": "code",
      "metadata": {
        "id": "36CEUsszJYNo"
      },
      "source": [
        "# python evaluate.py -n 10 -ds mnist -m lib.model.MnistModel -o EKSGLD,KSGLD,pSGLD,ASGLD,SGLD,SGD \\\n",
        "#   -d /content/drive/MyDrive/MyExperiments/mnist_lenet4\n",
        "\n",
        "# python evaluate.py -n 10 -ds cifar10 -m resnet.LeNet -o EKSGLD,KSGLD,pSGLD,ASGLD,SGLD,SGD \\\n",
        "#   -d /content/drive/MyDrive/MyExperiments/cifar10_lenet5\n",
        "\n",
        "python evaluate.py -n 10 -ds cifar10 -m resnet.ResNet18 -o EKSGLD,KSGLD,pSGLD,ASGLD,SGLD,SGD \\\n",
        "  -d /content/drive/MyDrive/MyExperiments/cifar10_resnet18"
      ],
      "execution_count": null,
      "outputs": []
    },
    {
      "cell_type": "code",
      "metadata": {
        "id": "1oxHuPAO9tqD"
      },
      "source": [
        "# !cp plots/* /content/drive/MyDrive/MyExperiments/mnist_lenet4/plots\n",
        "# !cp plots/* /content/drive/MyDrive/MyExperiments/cifar10_lenet5/plots\n",
        "!cp plots/* /content/drive/MyDrive/MyExperiments/cifar10_resnet18/plots"
      ],
      "execution_count": null,
      "outputs": []
    },
    {
      "cell_type": "markdown",
      "metadata": {
        "id": "bR2vsCU9R2mP"
      },
      "source": [
        "### Evaluate Performance on OOD"
      ]
    },
    {
      "cell_type": "code",
      "metadata": {
        "id": "mXcUR-7YR5j8"
      },
      "source": [
        "# %cd /content/ngld-experiments/calibration\n",
        "!rm -rf ood\n",
        "!rm -rf img_plots\n",
        "!mkdir ood\n",
        "!mkdir img_plots"
      ],
      "execution_count": null,
      "outputs": []
    },
    {
      "cell_type": "markdown",
      "metadata": {
        "id": "IhIb9RNBlcAT"
      },
      "source": [
        "#### Calculate Metrics"
      ]
    },
    {
      "cell_type": "code",
      "metadata": {
        "id": "pFlcD7pnYxum"
      },
      "source": [
        "# prepare notMNIST raw data:\n",
        "!tar -xzf /content/drive/MyDrive/Tesis/dataset/notMNIST_small.tar.gz \\\n",
        "  -C /content/ngld-experiments/calibration\n",
        "!mv notMNIST_small notmnist_data"
      ],
      "execution_count": null,
      "outputs": []
    },
    {
      "cell_type": "code",
      "metadata": {
        "id": "jFJpYq-qR_NX"
      },
      "source": [
        "# %run ood.py -n 10 -ds notmnist -m lib.model.MnistModel -o EKSGLD,KSGLD,pSGLD,ASGLD,SGLD,SGD \\\n",
        "#   -d /content/drive/MyDrive/MyExperiments/mnist_lenet4\n",
        "\n",
        "# %run ood.py -n 10 -ds svhn -m lib.model.LeNet -o EKSGLD,KSGLD,pSGLD,ASGLD,SGLD,SGD \\\n",
        "#   -d /content/drive/MyDrive/MyExperiments/cifar10_lenet5\n",
        "\n",
        "%run ood.py -n 10 -ds svhn -m resnet.ResNet18 -o EKSGLD,KSGLD,pSGLD,ASGLD,SGLD,SGD \\\n",
        "  -d /content/drive/MyDrive/MyExperiments/cifar10_resnet18"
      ],
      "execution_count": null,
      "outputs": []
    },
    {
      "cell_type": "code",
      "metadata": {
        "id": "jGcjopz9SV1P"
      },
      "source": [
        "!mv ood /content/drive/MyDrive/MyExperiments/cifar10_resnet18"
      ],
      "execution_count": null,
      "outputs": []
    },
    {
      "cell_type": "markdown",
      "metadata": {
        "id": "NPd-nBQslgLw"
      },
      "source": [
        "#### Plotting"
      ]
    },
    {
      "cell_type": "code",
      "metadata": {
        "id": "R-afqzCgSfmc"
      },
      "source": [
        "# prepare plot configs\n",
        "import matplotlib.pyplot as plt\n",
        "import torch\n",
        "import numpy as np\n",
        "import glob\n",
        "\n",
        "# dataset_model = \"mnist_lenet4\"\n",
        "# dataset_model = \"cifar10_lenet5\"\n",
        "dataset_model = \"cifar10_resnet18\"\n",
        "stats_path = f'/content/drive/MyDrive/MyExperiments/{dataset_model}/ood/stats_*.pt'\n",
        "path = glob.glob(stats_path)[0]\n",
        "config = {\n",
        "    \"legend_loc\": \"upper left\",\n",
        "    \"ylabel\": r\"accuracy on examples $p(y|x) \\geq \\tau $\",\n",
        "    \"xlabel\": r\"$ \\tau $\",\n",
        "    \"scalar_data\": [{\n",
        "        \"plot_label\": \"EKSGLD\",\n",
        "        \"marker\": \"o\"\n",
        "    }, {\n",
        "        \"plot_label\": \"KSGLD\",\n",
        "        \"marker\": \"*\"\n",
        "    }, {\n",
        "        \"plot_label\": \"pSGLD\",\n",
        "        \"marker\": \"D\"\n",
        "    }, {\n",
        "        \"plot_label\": \"ASGLD\",\n",
        "        \"marker\": \">\"\n",
        "    }\n",
        "    , {\n",
        "        \"plot_label\": \"SGLD\",\n",
        "        \"marker\": \"<\"\n",
        "    }\n",
        "    , {\n",
        "        \"plot_label\": \"SGD\",\n",
        "        \"marker\": \"s\"\n",
        "    }\n",
        "    ]\n",
        "}\n",
        "\n",
        "chk = torch.load(path)\n",
        "thresholds = chk['thresholds']\n",
        "entropies = chk['entropies']\n",
        "samples = chk['samples']"
      ],
      "execution_count": null,
      "outputs": []
    },
    {
      "cell_type": "code",
      "metadata": {
        "id": "Hnj_-ClRSniv"
      },
      "source": [
        "# plot conf vs number of samples\n",
        "plt.figure(dpi=600)\n",
        "for cfg in config[\"scalar_data\"]:\n",
        "    if cfg[\"plot_label\"] != \"EKSGLD\":\n",
        "        plt.plot(thresholds[:-1],samples[cfg[\"plot_label\"]][:-1], label=cfg[\"plot_label\"], linestyle=':', marker=cfg[\"marker\"], markersize=4, alpha=0.5)\n",
        "    else:\n",
        "        plt.plot(thresholds[:-1],samples[cfg[\"plot_label\"]][:-1], label=cfg[\"plot_label\"], marker=cfg[\"marker\"], markersize=4)\n",
        "\n",
        "plt.xlabel(config[\"xlabel\"])\n",
        "plt.ylabel(r'number of samples $p(y|x) \\geq \\tau $')\n",
        "# plt.ylim(bottom=minvalue, top=maxvalue)\n",
        "plt.legend(loc='best')\n",
        "plt.savefig(f\"img_plots/samples_confthres_{dataset_model}.png\", bbox_inches='tight')\n",
        "plt.savefig(f\"img_plots/samples_confthres_{dataset_model}.pdf\", bbox_inches='tight')\n",
        "plt.show()"
      ],
      "execution_count": null,
      "outputs": []
    },
    {
      "cell_type": "code",
      "metadata": {
        "id": "eeQOl-S0SmNW"
      },
      "source": [
        "# plot entropy\n",
        "\n",
        "plt.figure(dpi=600)\n",
        "def_cycler = plt.rcParams['axes.prop_cycle']\n",
        "cycle_iter = iter(def_cycler)\n",
        "for cfg in config[\"scalar_data\"]:\n",
        "  color = next(cycle_iter)['color']\n",
        "  entropy_cumm = torch.cat(entropies[cfg['plot_label']])\n",
        "  entropy_cumm_np = entropy_cumm.cpu().numpy()\n",
        "  n,x,line = plt.hist(entropy_cumm_np, histtype='step', bins=20, alpha=0., color=color)\n",
        "  bin_centers = 0.5*(x[1:]+x[:-1])\n",
        "  bin_centers = np.append(0, bin_centers)\n",
        "  bin_centers = np.append(bin_centers, x[-1])\n",
        "  n = np.append(0, n)\n",
        "  n = np.append(n, 0)\n",
        "\n",
        "  if cfg[\"plot_label\"] != \"EKSGLD\":\n",
        "      plt.plot(bin_centers, n, label=cfg[\"plot_label\"], linestyle=':', alpha=0.5)\n",
        "  else:\n",
        "      plt.plot(bin_centers, n, label=cfg[\"plot_label\"])\n",
        "\n",
        "plt.xlabel('entropy')\n",
        "plt.ylabel(r'number of samples')\n",
        "# plt.ylim(bottom=minvalue, top=maxvalue)\n",
        "plt.legend(loc='best')\n",
        "plt.savefig(f\"img_plots/samples_entropy_{dataset_model}.png\", bbox_inches='tight')\n",
        "plt.savefig(f\"img_plots/samples_entropy_{dataset_model}.pdf\", bbox_inches='tight')\n",
        "plt.show()"
      ],
      "execution_count": null,
      "outputs": []
    },
    {
      "cell_type": "code",
      "metadata": {
        "id": "GrrBb7DQgZNW"
      },
      "source": [
        "!cp img_plots/*.* /content/drive/MyDrive/MyExperiments/plots_img"
      ],
      "execution_count": null,
      "outputs": []
    },
    {
      "cell_type": "markdown",
      "metadata": {
        "id": "KfQqH0NK13JR"
      },
      "source": [
        "### Evaluate Performance under Distribution Shift"
      ]
    },
    {
      "cell_type": "code",
      "metadata": {
        "id": "53FDJFQ-1_ok"
      },
      "source": [
        "# %cd /content/ngld-experiments/calibration\n",
        "# %cd calibration\n",
        "!rm -rf distrib_shift\n",
        "!rm -rf img_plots\n",
        "!mkdir distrib_shift\n",
        "!mkdir img_plots"
      ],
      "execution_count": null,
      "outputs": []
    },
    {
      "cell_type": "markdown",
      "metadata": {
        "id": "D8FBaxfRlzBy"
      },
      "source": [
        "#### Calculate Metrics"
      ]
    },
    {
      "cell_type": "code",
      "metadata": {
        "id": "MubDfNhR17iq"
      },
      "source": [
        "# %run distrib_shift.py -n 10 -ds mnist -m lib.model.MnistModel -o EKSGLD,KSGLD,pSGLD,ASGLD,SGLD,SGD \\\n",
        "#   -d /content/drive/MyDrive/MyExperiments/mnist_lenet4\n",
        "\n",
        "# %run distrib_shift.py -n 10 -ds cifar10 -m lib.model.LeNet -o EKSGLD,KSGLD,pSGLD,ASGLD,SGLD,SGD \\\n",
        "#   -d /content/drive/MyDrive/MyExperiments/cifar10_lenet5\n",
        "\n",
        "%run distrib_shift.py -n 10 -ds cifar10 -m resnet.ResNet18 -o EKSGLD,KSGLD,pSGLD,ASGLD,SGLD,SGD \\\n",
        "  -d /content/drive/MyDrive/MyExperiments/cifar10_resnet18"
      ],
      "execution_count": null,
      "outputs": []
    },
    {
      "cell_type": "code",
      "metadata": {
        "id": "U0SNicVH4Qt3"
      },
      "source": [
        "# !mv distrib_shift /content/drive/MyDrive/MyExperiments/mnist_lenet4\n",
        "# !mv distrib_shift /content/drive/MyDrive/MyExperiments/cifar10_lenet5\n",
        "!mv distrib_shift /content/drive/MyDrive/MyExperiments/cifar10_resnet18"
      ],
      "execution_count": null,
      "outputs": []
    },
    {
      "cell_type": "markdown",
      "metadata": {
        "id": "zuH1HpTpl5jK"
      },
      "source": [
        "#### Plotting"
      ]
    },
    {
      "cell_type": "code",
      "metadata": {
        "id": "MyYHeHcd4czY"
      },
      "source": [
        "# prepare plot configs\n",
        "import metrics\n",
        "import matplotlib.pyplot as plt\n",
        "import torch\n",
        "import numpy as np\n",
        "import glob\n",
        "\n",
        "# dataset_model = \"mnist_lenet4\"\n",
        "# dataset_model = \"cifar10_lenet5\"\n",
        "dataset_model = \"cifar10_resnet18\"\n",
        "stats_path = f'/content/drive/MyDrive/MyExperiments/{dataset_model}/distrib_shift/stats_*.pt'\n",
        "path = glob.glob(stats_path)[0]\n",
        "config = {\n",
        "    \"legend_loc\": \"upper left\",\n",
        "    \"ylabel\": r\"accuracy on examples $p(y|x) \\geq \\tau $\",\n",
        "    \"xlabel\": r\"$ \\tau $\",\n",
        "    \"scalar_data\": [{\n",
        "        \"plot_label\": \"EKSGLD\",\n",
        "        \"marker\": \"o\"\n",
        "    }, {\n",
        "        \"plot_label\": \"KSGLD\",\n",
        "        \"marker\": \"*\"\n",
        "    }, {\n",
        "        \"plot_label\": \"pSGLD\",\n",
        "        \"marker\": \"D\"\n",
        "    }, {\n",
        "        \"plot_label\": \"ASGLD\",\n",
        "        \"marker\": \">\"\n",
        "    }\n",
        "    , {\n",
        "        \"plot_label\": \"SGLD\",\n",
        "        \"marker\": \"<\"\n",
        "    }\n",
        "    , {\n",
        "        \"plot_label\": \"SGD\",\n",
        "        \"marker\": \"s\"\n",
        "    }\n",
        "    ]\n",
        "}\n",
        "\n",
        "chk = torch.load(path)\n",
        "rotations = chk['rotations']\n",
        "accuracies = chk['accuracies']\n",
        "labels = chk['labels']\n",
        "pred_probs = chk['pred_probs']\n",
        "nlls = chk['nll']"
      ],
      "execution_count": null,
      "outputs": []
    },
    {
      "cell_type": "code",
      "metadata": {
        "id": "5Q88cDXREfnB"
      },
      "source": [
        "# plot ECE vs shift intensity\n",
        "\n",
        "plt.figure(dpi=600)\n",
        "x = [str(r) for r in rotations]\n",
        "for cfg in config[\"scalar_data\"]:\n",
        "  optimizer = cfg[\"plot_label\"]\n",
        "  ece_scores = []\n",
        "  for i in range(len(rotations)):\n",
        "    ece_criterion = metrics.ECELoss()\n",
        "    ece_score = ece_criterion.loss(pred_probs[optimizer][i],labels[optimizer][i], 15, logits=False)\n",
        "    ece_scores.append(ece_score)\n",
        "  \n",
        "  if cfg[\"plot_label\"] != \"EKSGLD\":\n",
        "      plt.plot(x[:],ece_scores[:], label=optimizer, linestyle=':', marker=cfg[\"marker\"], markersize=4, alpha=0.5)\n",
        "  else:\n",
        "      plt.plot(x[:],ece_scores[:], label=optimizer, marker=cfg[\"marker\"], markersize=4)\n",
        "\n",
        "plt.xlabel('rotational degree')\n",
        "plt.ylabel(r'ECE')\n",
        "plt.legend(loc='best')\n",
        "plt.savefig(f\"img_plots/ece_shift_{dataset_model}.png\", bbox_inches='tight')\n",
        "plt.savefig(f\"img_plots/ece_shift_{dataset_model}.pdf\", bbox_inches='tight')\n",
        "plt.show()"
      ],
      "execution_count": null,
      "outputs": []
    },
    {
      "cell_type": "code",
      "metadata": {
        "id": "K3NfHGSD0C9A"
      },
      "source": [
        "# plot Accuracy vs shift intensity\n",
        "\n",
        "plt.figure(dpi=600)\n",
        "x = [str(r) for r in rotations]\n",
        "for cfg in config[\"scalar_data\"]:\n",
        "  optimizer = cfg[\"plot_label\"]\n",
        "\n",
        "  if cfg[\"plot_label\"] != \"EKSGLD\":\n",
        "      plt.plot(x[:],accuracies[optimizer][:], label=optimizer, linestyle=':', marker=cfg[\"marker\"], markersize=4, alpha=0.5)\n",
        "  else:\n",
        "      plt.plot(x[:],accuracies[optimizer][:], label=optimizer, marker=cfg[\"marker\"], markersize=4)\n",
        "\n",
        "\n",
        "plt.xlabel('rotational degree')\n",
        "plt.ylabel(r'Accuracy')\n",
        "plt.legend(loc='best')\n",
        "plt.savefig(f\"img_plots/acc_shift_{dataset_model}.png\", bbox_inches='tight')\n",
        "plt.savefig(f\"img_plots/acc_shift_{dataset_model}.pdf\", bbox_inches='tight')\n",
        "plt.show()"
      ],
      "execution_count": null,
      "outputs": []
    },
    {
      "cell_type": "code",
      "metadata": {
        "id": "HiqbLy8pyxke"
      },
      "source": [
        "# plot Brier vs shift intensity\n",
        "def brier_multi(targets, probs):\n",
        "  return np.mean(np.sum((probs - targets)**2, axis=1))\n",
        "\n",
        "plt.figure(dpi=600)\n",
        "x = [str(r) for r in rotations]\n",
        "for cfg in config[\"scalar_data\"]:\n",
        "  optimizer = cfg[\"plot_label\"]\n",
        "  brier_scores = []\n",
        "  for i in range(len(rotations)):\n",
        "    onehot_label = np.eye(10)[labels[optimizer][i]]\n",
        "    brier_score = brier_multi(pred_probs[optimizer][i], onehot_label)\n",
        "    brier_scores.append(brier_score)\n",
        "  \n",
        "  if cfg[\"plot_label\"] != \"EKSGLD\":\n",
        "      plt.plot(x[:],brier_scores[:], label=optimizer, linestyle=':', marker=cfg[\"marker\"], markersize=4, alpha=0.5)\n",
        "  else:\n",
        "      plt.plot(x[:],brier_scores[:], label=optimizer, marker=cfg[\"marker\"], markersize=4)\n",
        "\n",
        "plt.xlabel('rotational degree')\n",
        "plt.ylabel(r'Brier')\n",
        "plt.legend(loc='best')\n",
        "plt.savefig(f\"img_plots/brier_shift_{dataset_model}.png\", bbox_inches='tight')\n",
        "plt.savefig(f\"img_plots/brier_shift_{dataset_model}.pdf\", bbox_inches='tight')\n",
        "plt.show()"
      ],
      "execution_count": null,
      "outputs": []
    },
    {
      "cell_type": "code",
      "metadata": {
        "id": "soaV7YstnVbD"
      },
      "source": [
        "!cp img_plots/*.* /content/drive/MyDrive/MyExperiments/plots_img"
      ],
      "execution_count": null,
      "outputs": []
    },
    {
      "cell_type": "markdown",
      "metadata": {
        "id": "lzD6eb0k_8et"
      },
      "source": [
        "### Plot Performance from TFEvents"
      ]
    },
    {
      "cell_type": "markdown",
      "metadata": {
        "id": "le0xBwY1GTuF"
      },
      "source": [
        "#### Accuracy vs Epoch"
      ]
    },
    {
      "cell_type": "code",
      "metadata": {
        "id": "tzIqhiM351ID"
      },
      "source": [
        "!mkdir img_plots"
      ],
      "execution_count": null,
      "outputs": []
    },
    {
      "cell_type": "code",
      "metadata": {
        "id": "rgs97xiwABPC"
      },
      "source": [
        "from tensorboard.backend.event_processing.event_accumulator import EventAccumulator\n",
        "import numpy as np\n",
        "import argparse\n",
        "import yaml\n",
        "import glob\n",
        "import matplotlib.pyplot as plt\n",
        "\n",
        "# Loading too much data is slow...\n",
        "tf_size_guidance = {\n",
        "    'compressedHistograms': 10,\n",
        "    'images': 0,\n",
        "    'scalars': 100,\n",
        "    'histograms': 1\n",
        "}\n",
        "\n",
        "minvalue = 92\n",
        "maxvalue = 99.6\n",
        "\n",
        "# dataset_model = \"mnist_lenet4\"\n",
        "# dataset_model = \"cifar10_lenet5\"\n",
        "dataset_model = \"cifar10_resnet18\"\n",
        "base_path = f\"/content/drive/MyDrive/MyExperiments/{dataset_model}/runs\"\n",
        "\n",
        "config = {\n",
        "    \"legend_loc\": \"lower right\",\n",
        "    \"ylabel\": \"accuracy\",\n",
        "    \"xlabel\": \"epoch\",\n",
        "    \"scalar_data\": [{\n",
        "        \"plot_label\": \"EKSGLD\",\n",
        "        \"marker\": \"o\"\n",
        "    }, {\n",
        "        \"plot_label\": \"KSGLD\",\n",
        "        \"marker\": \"*\"\n",
        "    }, {\n",
        "        \"plot_label\": \"pSGLD\",\n",
        "        \"marker\": \"D\"\n",
        "    }, {\n",
        "        \"plot_label\": \"ASGLD\",\n",
        "        \"marker\": \">\"\n",
        "    }, {\n",
        "        \"plot_label\": \"SGLD\",\n",
        "        \"marker\": \"<\"\n",
        "    }, {\n",
        "        \"plot_label\": \"SGD\",\n",
        "        \"marker\": \"s\"\n",
        "    }]\n",
        "}\n",
        "\n",
        "plt.figure(dpi=600)\n",
        "for cfg in config[\"scalar_data\"]:\n",
        "    path = base_path + f'/*.{cfg[\"plot_label\"]}_*/*.*'\n",
        "    x = []\n",
        "    y = []\n",
        "    for data_path in glob.glob(path):\n",
        "        event_acc = EventAccumulator(data_path, tf_size_guidance)\n",
        "        event_acc.Reload()\n",
        "\n",
        "        val_acc = event_acc.Scalars(\"Acc/train\")\n",
        "\n",
        "        for val_acc_i in val_acc:\n",
        "            y.append(val_acc_i[2])\n",
        "            x.append(val_acc_i.step)\n",
        "\n",
        "        if cfg[\"plot_label\"] != \"EKSGLD\":\n",
        "            plt.plot(x[:],y[:], label=cfg[\"plot_label\"], linestyle=':', marker=cfg[\"marker\"], markersize=4, alpha=0.5)\n",
        "        else:\n",
        "            plt.plot(x[:],y[:], label=cfg[\"plot_label\"], marker=cfg[\"marker\"], markersize=4)\n",
        "\n",
        "plt.xlabel(\"epoch\")\n",
        "plt.ylabel(\"accuracy\")\n",
        "# plt.ylim(bottom=minvalue, top=maxvalue)\n",
        "plt.legend(loc=\"best\")\n",
        "plt.savefig(f\"img_plots/acc_epoch_{dataset_model}.png\", bbox_inches='tight')\n",
        "plt.savefig(f\"img_plots/acc_epoch_{dataset_model}.pdf\", bbox_inches='tight')\n",
        "plt.show()"
      ],
      "execution_count": null,
      "outputs": []
    },
    {
      "cell_type": "markdown",
      "metadata": {
        "id": "LfoRvopgGWzf"
      },
      "source": [
        "#### Accuracy vs Wall-Clock Time"
      ]
    },
    {
      "cell_type": "code",
      "metadata": {
        "id": "Td2JgBvxIdB-"
      },
      "source": [
        "# %cd calibration\n",
        "!rm -rf img_plots\n",
        "!mkdir img_plots"
      ],
      "execution_count": null,
      "outputs": []
    },
    {
      "cell_type": "code",
      "metadata": {
        "id": "1pwxMRHdGYuU"
      },
      "source": [
        "from tensorboard.backend.event_processing.event_accumulator import EventAccumulator\n",
        "import numpy as np\n",
        "import argparse\n",
        "import yaml\n",
        "import glob\n",
        "import matplotlib.pyplot as plt\n",
        "\n",
        "# Loading too much data is slow...\n",
        "tf_size_guidance = {\n",
        "    'compressedHistograms': 10,\n",
        "    'images': 0,\n",
        "    'scalars': 100,\n",
        "    'histograms': 1\n",
        "}\n",
        "\n",
        "minvalue = 92\n",
        "maxvalue = 99.6\n",
        "\n",
        "# dataset_model = \"mnist_lenet4\"\n",
        "# dataset_model = \"cifar10_lenet5\"\n",
        "dataset_model = \"cifar10_resnet18\"\n",
        "base_path = f\"/content/drive/MyDrive/MyExperiments/{dataset_model}/runs\"\n",
        "\n",
        "config = {\n",
        "    \"legend_loc\": \"lower right\",\n",
        "    \"ylabel\": \"accuracy\",\n",
        "    \"xlabel\": \"epoch\",\n",
        "    \"scalar_data\": [{\n",
        "        \"plot_label\": \"EKSGLD\",\n",
        "        \"marker\": \"o\"\n",
        "    }, {\n",
        "        \"plot_label\": \"KSGLD\",\n",
        "        \"marker\": \"*\"\n",
        "    }, {\n",
        "        \"plot_label\": \"pSGLD\",\n",
        "        \"marker\": \"D\"\n",
        "    }, {\n",
        "        \"plot_label\": \"ASGLD\",\n",
        "        \"marker\": \">\"\n",
        "    }, {\n",
        "        \"plot_label\": \"SGLD\",\n",
        "        \"marker\": \"<\"\n",
        "    }, {\n",
        "        \"plot_label\": \"SGD\",\n",
        "        \"marker\": \"s\"\n",
        "    }]\n",
        "}\n",
        "\n",
        "plt.figure(dpi=600)\n",
        "for cfg in config[\"scalar_data\"]:\n",
        "    path = base_path + f'/*.{cfg[\"plot_label\"]}_*/*.*'\n",
        "    x = []\n",
        "    y = []\n",
        "    for data_path in glob.glob(path):\n",
        "        event_acc = EventAccumulator(data_path, tf_size_guidance)\n",
        "        event_acc.Reload()\n",
        "\n",
        "        val_acc = event_acc.Scalars(\"Acc/train\")\n",
        "        \n",
        "        start = val_acc[0].wall_time\n",
        "        for val_acc_i in val_acc:\n",
        "            duration = (val_acc_i.wall_time-start)\n",
        "            y.append(val_acc_i[2])\n",
        "            x.append(duration)\n",
        "\n",
        "        if cfg[\"plot_label\"] != \"EKSGLD\":\n",
        "            plt.plot(x[:],y[:], label=cfg[\"plot_label\"], linestyle=':', marker=cfg[\"marker\"], markersize=4, alpha=0.5)\n",
        "        else:\n",
        "            plt.plot(x[:],y[:], label=cfg[\"plot_label\"], marker=cfg[\"marker\"], markersize=4)\n",
        "\n",
        "plt.xlabel(\"wall clock time in seconds\")\n",
        "plt.ylabel(\"accuracy\")\n",
        "# plt.ylim(bottom=minvalue, top=maxvalue)\n",
        "plt.legend(loc=\"best\")\n",
        "plt.savefig(f\"img_plots/acc_clock_{dataset_model}.png\", bbox_inches='tight')\n",
        "plt.savefig(f\"img_plots/acc_clock_{dataset_model}.pdf\", bbox_inches='tight')\n",
        "plt.show()"
      ],
      "execution_count": null,
      "outputs": []
    },
    {
      "cell_type": "code",
      "metadata": {
        "id": "giyJzxARB9Eg"
      },
      "source": [
        "!cp img_plots/*.* /content/drive/MyDrive/MyExperiments/plots_img"
      ],
      "execution_count": null,
      "outputs": []
    },
    {
      "cell_type": "markdown",
      "metadata": {
        "id": "VhBKpApXdh15"
      },
      "source": [
        "### Plot Accuracy vs Confidence Threshold"
      ]
    },
    {
      "cell_type": "code",
      "metadata": {
        "id": "-OTAubDowOs-"
      },
      "source": [
        "# %cd calibration\n",
        "!rm -rf conf_threshold\n",
        "!mkdir conf_threshold\n",
        "!rm -rf img_plots\n",
        "!mkdir img_plots"
      ],
      "execution_count": null,
      "outputs": []
    },
    {
      "cell_type": "code",
      "metadata": {
        "id": "bx5ckrTumQ8F"
      },
      "source": [
        "# %run conf_threshold.py -n 10 -ds mnist -m lib.model.MnistModel -o EKSGLD,KSGLD,pSGLD,ASGLD,SGLD,SGD \\\n",
        "#   -d /content/drive/MyDrive/MyExperiments/mnist_lenet4\n",
        "\n",
        "# %run conf_threshold.py -n 10 -ds cifar10 -m lib.model.LeNet -o EKSGLD,KSGLD,pSGLD,ASGLD,SGLD,SGD \\\n",
        "#   -d /content/drive/MyDrive/MyExperiments/cifar10_lenet5\n",
        "\n",
        "%run conf_threshold.py -n 10 -ds cifar10 -m resnet.ResNet18 -o EKSGLD,KSGLD,pSGLD,ASGLD,SGLD,SGD \\\n",
        "  -d /content/drive/MyDrive/MyExperiments/cifar10_resnet18"
      ],
      "execution_count": null,
      "outputs": []
    },
    {
      "cell_type": "markdown",
      "metadata": {
        "id": "dv8TVwyTHuTO"
      },
      "source": [
        "#### Plotting"
      ]
    },
    {
      "cell_type": "code",
      "metadata": {
        "id": "43tXV7Xk-gw-"
      },
      "source": [
        "# prepare plot configs\n",
        "import matplotlib.pyplot as plt\n",
        "import torch\n",
        "import numpy as np\n",
        "import glob\n",
        "\n",
        "# dataset_model = \"mnist_lenet4\"\n",
        "# dataset_model = \"cifar10_lenet5\"\n",
        "dataset_model = \"cifar10_resnet18\"\n",
        "base_path = f\"/content/drive/MyDrive/MyExperiments/{dataset_model}/conf_threshold/stats_*.pt\"\n",
        "path = glob.glob(base_path)[0]\n",
        "config = {\n",
        "    \"legend_loc\": \"upper left\",\n",
        "    \"ylabel\": r\"accuracy on examples $p(y|x) \\geq \\tau $\",\n",
        "    \"xlabel\": r\"$ \\tau $\",\n",
        "    \"scalar_data\": [{\n",
        "        \"plot_label\": \"EKSGLD\",\n",
        "        \"marker\": \"o\"\n",
        "    }, {\n",
        "        \"plot_label\": \"KSGLD\",\n",
        "        \"marker\": \"*\"\n",
        "    }, {\n",
        "        \"plot_label\": \"pSGLD\",\n",
        "        \"marker\": \"D\"\n",
        "    }, {\n",
        "        \"plot_label\": \"ASGLD\",\n",
        "        \"marker\": \">\"\n",
        "    }\n",
        "    , {\n",
        "        \"plot_label\": \"SGLD\",\n",
        "        \"marker\": \"<\"\n",
        "    }\n",
        "    , {\n",
        "        \"plot_label\": \"SGD\",\n",
        "        \"marker\": \"s\"\n",
        "    }\n",
        "    ]\n",
        "}\n",
        "\n",
        "chk = torch.load(path)\n",
        "thresholds = chk['thresholds']\n",
        "accuracies = chk['accuracies']\n",
        "entropies = chk['entropies']\n",
        "samples = chk['samples']"
      ],
      "execution_count": null,
      "outputs": []
    },
    {
      "cell_type": "code",
      "metadata": {
        "id": "WgtVlRWNvG-U"
      },
      "source": [
        "# plot conf vs accuracy\n",
        "plt.figure(dpi=600)\n",
        "for cfg in config[\"scalar_data\"]:\n",
        "  if cfg[\"plot_label\"] != \"EKSGLD\":\n",
        "      plt.plot(thresholds[:],accuracies[cfg[\"plot_label\"]][:], label=cfg[\"plot_label\"], linestyle=':', marker=cfg[\"marker\"], markersize=4, alpha=0.5)\n",
        "  else:\n",
        "      plt.plot(thresholds[:],accuracies[cfg[\"plot_label\"]][:], label=cfg[\"plot_label\"], marker=cfg[\"marker\"], markersize=4)\n",
        "\n",
        "plt.xlabel(config[\"xlabel\"])\n",
        "plt.ylabel(config[\"ylabel\"])\n",
        "plt.legend(loc='best')\n",
        "plt.savefig(f\"img_plots/indistrib_acc_confthres_{dataset_model}.png\", bbox_inches='tight')\n",
        "plt.savefig(f\"img_plots/indistrib_acc_confthres_{dataset_model}.pdf\", bbox_inches='tight')\n",
        "plt.show()"
      ],
      "execution_count": null,
      "outputs": []
    },
    {
      "cell_type": "code",
      "metadata": {
        "id": "2uRFkMtV-Z-d"
      },
      "source": [
        "# plot conf vs number of samples\n",
        "plt.figure(dpi=600)\n",
        "for cfg in config[\"scalar_data\"]:\n",
        "  if cfg[\"plot_label\"] != \"EKSGLD\":\n",
        "      plt.plot(thresholds[:],samples[cfg[\"plot_label\"]][:], label=cfg[\"plot_label\"], linestyle=':', marker=cfg[\"marker\"], markersize=4, alpha=0.5)\n",
        "  else:\n",
        "      plt.plot(thresholds[:],samples[cfg[\"plot_label\"]][:], label=cfg[\"plot_label\"], marker=cfg[\"marker\"], markersize=4)\n",
        "\n",
        "plt.xlabel(config[\"xlabel\"])\n",
        "plt.ylabel(r'number of samples $p(y|x) \\geq \\tau $')\n",
        "plt.legend(loc='best')\n",
        "plt.savefig(f\"img_plots/indistrib_samples_confthres_{dataset_model}.png\", bbox_inches='tight')\n",
        "plt.savefig(f\"img_plots/indistrib_samples_confthres_{dataset_model}.pdf\", bbox_inches='tight')\n",
        "plt.show()"
      ],
      "execution_count": null,
      "outputs": []
    },
    {
      "cell_type": "code",
      "metadata": {
        "id": "Wy7NlW6g-uAb"
      },
      "source": [
        "# plot entropy\n",
        "plt.figure(dpi=600)\n",
        "def_cycler = plt.rcParams['axes.prop_cycle']\n",
        "cycle_iter = iter(def_cycler)\n",
        "for cfg in config[\"scalar_data\"]:\n",
        "  color = next(cycle_iter)['color']\n",
        "  entropy_cumm = torch.cat(entropies[cfg['plot_label']])\n",
        "  entropy_cumm_np = entropy_cumm.cpu().numpy()\n",
        "  n,x,_ = plt.hist(entropy_cumm_np, histtype='step', bins=20, alpha=0., color=color)\n",
        "  bin_centers = 0.5*(x[1:]+x[:-1])\n",
        "  bin_centers = np.append(0, bin_centers)\n",
        "  bin_centers = np.append(bin_centers, x[-1])\n",
        "  n = np.append(0, n)\n",
        "  n = np.append(n, 0)\n",
        "\n",
        "  if cfg[\"plot_label\"] != \"EKSGLD\":\n",
        "      plt.plot(bin_centers, n, label=cfg[\"plot_label\"], color=color, linestyle=':', alpha=0.5)\n",
        "  else:\n",
        "      plt.plot(bin_centers, n, label=cfg[\"plot_label\"], color=color)\n",
        "      \n",
        "plt.xlabel('entropy')\n",
        "plt.ylabel(r'number of samples')\n",
        "plt.legend(loc='best')\n",
        "plt.savefig(f\"img_plots/indistrib_entropy_{dataset_model}.png\", bbox_inches='tight')\n",
        "plt.savefig(f\"img_plots/indistrib_entropy_{dataset_model}.pdf\", bbox_inches='tight')\n",
        "plt.show()"
      ],
      "execution_count": null,
      "outputs": []
    },
    {
      "cell_type": "code",
      "metadata": {
        "id": "tixgAu3R8sd-"
      },
      "source": [
        "!cp img_plots/*.* /content/drive/MyDrive/MyExperiments/plots_img"
      ],
      "execution_count": null,
      "outputs": []
    }
  ]
}